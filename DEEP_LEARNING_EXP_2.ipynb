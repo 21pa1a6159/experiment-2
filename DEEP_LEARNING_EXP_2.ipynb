{
  "nbformat": 4,
  "nbformat_minor": 0,
  "metadata": {
    "colab": {
      "provenance": []
    },
    "kernelspec": {
      "name": "python3",
      "display_name": "Python 3"
    },
    "language_info": {
      "name": "python"
    }
  },
  "cells": [
    {
      "cell_type": "code",
      "source": [
        "import numpy as np\n",
        "import pandas as pd\n",
        "import math"
      ],
      "metadata": {
        "id": "ucWsgLclF6-r"
      },
      "execution_count": null,
      "outputs": []
    },
    {
      "cell_type": "code",
      "execution_count": null,
      "metadata": {
        "colab": {
          "base_uri": "https://localhost:8080/"
        },
        "id": "cRRZNSEREdPZ",
        "outputId": "ba8c910b-da1f-4237-cef1-d044c50d98ec"
      },
      "outputs": [
        {
          "output_type": "stream",
          "name": "stdout",
          "text": [
            "1\n"
          ]
        }
      ],
      "source": [
        "X=np.array ([0.9, 0.6, 0.9])\n",
        "W=np.array ([0.9, 0.3, 0.1])\n",
        "b=0.5\n",
        "\n",
        "\n",
        "def stepFunction(t):\n",
        "  if t >= 0:\n",
        "    return 1\n",
        "  else:\n",
        "    return 0\n",
        "def prediction(X, W, b):\n",
        "    return stepFunction((np.matmul(X,W)+b))\n",
        "\n",
        "print(prediction(X,W,b))"
      ]
    },
    {
      "cell_type": "code",
      "source": [
        "import numpy as np\n",
        "def stepfun(t):\n",
        "    if t >= 0:\n",
        "        return 1\n",
        "    else:\n",
        "        return 0\n",
        "def perceptronModel(x, w, b):\n",
        "    t = np.dot(w, x) + b\n",
        "    y = stepfun(t)\n",
        "    return y\n",
        "def AND_logicFunction(x):\n",
        "    w = np.array([1, 1])\n",
        "    b = -1.5\n",
        "    return perceptronModel(x, w, b)\n",
        "a = np.array([0, 1])\n",
        "b = np.array([1, 1])\n",
        "c = np.array([0, 0])\n",
        "d = np.array([1, 0])\n",
        "\n",
        "print(\"AND({}, {}) = {}\".format(0, 1, AND_logicFunction(a)))\n",
        "print(\"AND({}, {}) = {}\".format(1, 1, AND_logicFunction(b)))\n",
        "print(\"AND({}, {}) = {}\".format(0, 0, AND_logicFunction(c)))\n",
        "print(\"AND({}, {}) = {}\".format(1, 0, AND_logicFunction(d)))"
      ],
      "metadata": {
        "colab": {
          "base_uri": "https://localhost:8080/"
        },
        "id": "SfhcSyPfF6By",
        "outputId": "e5fb0acf-22b0-41b5-c835-2c838524cd11"
      },
      "execution_count": null,
      "outputs": [
        {
          "output_type": "stream",
          "name": "stdout",
          "text": [
            "AND(0, 1) = 0\n",
            "AND(1, 1) = 1\n",
            "AND(0, 0) = 0\n",
            "AND(1, 0) = 0\n"
          ]
        }
      ]
    },
    {
      "cell_type": "code",
      "source": [
        "import numpy as np\n",
        "def stepfun(t):\n",
        "    if t >= 0:\n",
        "        return 1\n",
        "    else:\n",
        "        return 0\n",
        "def perceptronModel(x, w, b):\n",
        "    t = np.dot(w, x) + b\n",
        "    y = stepfun(t)\n",
        "    return y\n",
        "def OR_logicFunction(x):\n",
        "    w = np.array([1, 1])\n",
        "    b = -0.5\n",
        "    return perceptronModel(x, w, b)\n",
        "a = np.array([0, 1])\n",
        "b = np.array([1, 1])\n",
        "c = np.array([0, 0])\n",
        "d = np.array([1, 0])\n",
        "\n",
        "print(\"OR({}, {}) = {}\".format(0, 1, OR_logicFunction(a)))\n",
        "print(\"OR({}, {}) = {}\".format(1, 1, OR_logicFunction(b)))\n",
        "print(\"OR({}, {}) = {}\".format(0, 0, OR_logicFunction(c)))\n",
        "print(\"OR({}, {}) = {}\".format(1, 0, OR_logicFunction(d)))"
      ],
      "metadata": {
        "colab": {
          "base_uri": "https://localhost:8080/"
        },
        "id": "b07nvK_ZNMVE",
        "outputId": "22290302-784d-4fad-b29c-0d7a87dcfdaa"
      },
      "execution_count": null,
      "outputs": [
        {
          "output_type": "stream",
          "name": "stdout",
          "text": [
            "OR(0, 1) = 1\n",
            "OR(1, 1) = 1\n",
            "OR(0, 0) = 0\n",
            "OR(1, 0) = 1\n"
          ]
        }
      ]
    }
  ]
}